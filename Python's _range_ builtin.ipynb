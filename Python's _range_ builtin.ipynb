{
 "cells": [
  {
   "cell_type": "code",
   "execution_count": 1,
   "id": "8b986c67",
   "metadata": {},
   "outputs": [],
   "source": [
    "# range"
   ]
  },
  {
   "cell_type": "code",
   "execution_count": 2,
   "id": "c5db54bc",
   "metadata": {},
   "outputs": [
    {
     "name": "stdout",
     "output_type": "stream",
     "text": [
      "a\n",
      "b\n",
      "c\n",
      "d\n"
     ]
    }
   ],
   "source": [
    "# iterate over a string\n",
    "\n",
    "for one_item in 'abcd':\n",
    "    print(one_item)\n",
    "    \n",
    "    "
   ]
  },
  {
   "cell_type": "code",
   "execution_count": 3,
   "id": "8092c146",
   "metadata": {},
   "outputs": [
    {
     "name": "stdout",
     "output_type": "stream",
     "text": [
      "10\n",
      "20\n",
      "30\n",
      "40\n"
     ]
    }
   ],
   "source": [
    "for one_item in [10, 20, 30, 40]:\n",
    "    print(one_item)"
   ]
  },
  {
   "cell_type": "code",
   "execution_count": 4,
   "id": "30f06265",
   "metadata": {},
   "outputs": [
    {
     "ename": "TypeError",
     "evalue": "'int' object is not iterable",
     "output_type": "error",
     "traceback": [
      "\u001b[0;31m---------------------------------------------------------------------------\u001b[0m",
      "\u001b[0;31mTypeError\u001b[0m                                 Traceback (most recent call last)",
      "\u001b[0;32m/var/folders/rr/0mnyyv811fs5vyp22gf4fxk00000gn/T/ipykernel_90559/3901484964.py\u001b[0m in \u001b[0;36m<module>\u001b[0;34m\u001b[0m\n\u001b[0;32m----> 1\u001b[0;31m \u001b[0;32mfor\u001b[0m \u001b[0mone_item\u001b[0m \u001b[0;32min\u001b[0m \u001b[0;36m3\u001b[0m\u001b[0;34m:\u001b[0m\u001b[0;34m\u001b[0m\u001b[0;34m\u001b[0m\u001b[0m\n\u001b[0m\u001b[1;32m      2\u001b[0m     \u001b[0mprint\u001b[0m\u001b[0;34m(\u001b[0m\u001b[0;34m'Hooray!'\u001b[0m\u001b[0;34m)\u001b[0m\u001b[0;34m\u001b[0m\u001b[0;34m\u001b[0m\u001b[0m\n",
      "\u001b[0;31mTypeError\u001b[0m: 'int' object is not iterable"
     ]
    }
   ],
   "source": [
    "for one_item in 3:\n",
    "    print('Hooray!')"
   ]
  },
  {
   "cell_type": "code",
   "execution_count": 5,
   "id": "68c55af7",
   "metadata": {},
   "outputs": [
    {
     "name": "stdout",
     "output_type": "stream",
     "text": [
      "Hooray!\n",
      "Hooray!\n",
      "Hooray!\n"
     ]
    }
   ],
   "source": [
    "# range\n",
    "\n",
    "for one_item in range(3):\n",
    "    print('Hooray!')"
   ]
  },
  {
   "cell_type": "code",
   "execution_count": 6,
   "id": "41ef1bc7",
   "metadata": {},
   "outputs": [
    {
     "name": "stdout",
     "output_type": "stream",
     "text": [
      "0: Hooray!\n",
      "1: Hooray!\n",
      "2: Hooray!\n"
     ]
    }
   ],
   "source": [
    "# what do we get from range in each iteration?\n",
    "\n",
    "for one_item in range(3):\n",
    "    print(f'{one_item}: Hooray!')"
   ]
  },
  {
   "cell_type": "code",
   "execution_count": 7,
   "id": "ba1f3ab7",
   "metadata": {},
   "outputs": [],
   "source": [
    "# when we use range(n), we get each of the numbers from 0 until (and not including) n\n",
    "# which means, a total of n numbers"
   ]
  },
  {
   "cell_type": "code",
   "execution_count": 9,
   "id": "7c60eb51",
   "metadata": {},
   "outputs": [
    {
     "name": "stdout",
     "output_type": "stream",
     "text": [
      "a\n",
      "b\n",
      "c\n",
      "d\n"
     ]
    }
   ],
   "source": [
    "s = 'abcd'  # len(s) is 4, so s has indexes 0, 1, 2, and 3\n",
    "\n",
    "for index in range(len(s)):   # range(4), which means we'll get indexes 0, 1, 2, and 3\n",
    "    print(f'{s[index]}')"
   ]
  },
  {
   "cell_type": "code",
   "execution_count": 10,
   "id": "ec6a02b3",
   "metadata": {},
   "outputs": [
    {
     "name": "stdout",
     "output_type": "stream",
     "text": [
      "10\n",
      "11\n",
      "12\n",
      "13\n",
      "14\n"
     ]
    }
   ],
   "source": [
    "# call range with 2 elements -- starting point and ending + 1\n",
    "\n",
    "for one_number in range(10, 15):  # from 10 up to and not including 15\n",
    "    print(one_number)"
   ]
  },
  {
   "cell_type": "code",
   "execution_count": 11,
   "id": "2da7b7a3",
   "metadata": {},
   "outputs": [
    {
     "name": "stdout",
     "output_type": "stream",
     "text": [
      "308\n",
      "309\n",
      "310\n",
      "311\n",
      "312\n",
      "313\n",
      "314\n",
      "315\n",
      "316\n",
      "317\n",
      "318\n",
      "319\n",
      "320\n",
      "321\n"
     ]
    }
   ],
   "source": [
    "for one_number in range(308, 322):\n",
    "    print(one_number)"
   ]
  },
  {
   "cell_type": "code",
   "execution_count": 12,
   "id": "b3b16bc3",
   "metadata": {},
   "outputs": [
    {
     "name": "stdout",
     "output_type": "stream",
     "text": [
      "20\n",
      "22\n",
      "24\n",
      "26\n",
      "28\n"
     ]
    }
   ],
   "source": [
    "# range with 3 arguments is: start, stop+1, step_size\n",
    "\n",
    "for one_number in range(20, 30, 2):   # from 20 until (not including) 30, step size of 2\n",
    "    print(one_number)"
   ]
  },
  {
   "cell_type": "code",
   "execution_count": 13,
   "id": "5340ec18",
   "metadata": {},
   "outputs": [
    {
     "name": "stdout",
     "output_type": "stream",
     "text": [
      "30\n",
      "29\n",
      "28\n",
      "27\n",
      "26\n",
      "25\n",
      "24\n",
      "23\n",
      "22\n",
      "21\n"
     ]
    }
   ],
   "source": [
    "# we can count backwards!\n",
    "\n",
    "for one_number in range(30, 20, -1):  # from 30 until (not including) 20, step size of -1\n",
    "    print(one_number)"
   ]
  },
  {
   "cell_type": "code",
   "execution_count": 14,
   "id": "44b3a47c",
   "metadata": {},
   "outputs": [
    {
     "name": "stdout",
     "output_type": "stream",
     "text": [
      "30\n",
      "27\n",
      "24\n",
      "21\n"
     ]
    }
   ],
   "source": [
    "for one_number in range(30, 20, -3):  # from 30 until (not including) 20, step size of -3\n",
    "    print(one_number)"
   ]
  },
  {
   "cell_type": "code",
   "execution_count": 15,
   "id": "3e54300c",
   "metadata": {},
   "outputs": [],
   "source": [
    "# negative step size? make sure that the first argument is bigger than the second one\n",
    "\n",
    "for one_number in range(20, 30, -3):\n",
    "    print(one_number)"
   ]
  },
  {
   "cell_type": "code",
   "execution_count": 16,
   "id": "675123f4",
   "metadata": {},
   "outputs": [],
   "source": [
    "r = range(100, 100_000)"
   ]
  },
  {
   "cell_type": "code",
   "execution_count": 17,
   "id": "5f87e907",
   "metadata": {},
   "outputs": [
    {
     "data": {
      "text/plain": [
       "154"
      ]
     },
     "execution_count": 17,
     "metadata": {},
     "output_type": "execute_result"
    }
   ],
   "source": [
    "r[54]"
   ]
  },
  {
   "cell_type": "code",
   "execution_count": 18,
   "id": "123f87df",
   "metadata": {},
   "outputs": [
    {
     "data": {
      "text/plain": [
       "1087"
      ]
     },
     "execution_count": 18,
     "metadata": {},
     "output_type": "execute_result"
    }
   ],
   "source": [
    "r[987]"
   ]
  },
  {
   "cell_type": "code",
   "execution_count": 19,
   "id": "00a0eb49",
   "metadata": {},
   "outputs": [
    {
     "name": "stdout",
     "output_type": "stream",
     "text": [
      "range(100, 100000)\n"
     ]
    }
   ],
   "source": [
    "print(r)"
   ]
  },
  {
   "cell_type": "code",
   "execution_count": null,
   "id": "4068024f",
   "metadata": {},
   "outputs": [],
   "source": []
  }
 ],
 "metadata": {
  "kernelspec": {
   "display_name": "Python 3 (ipykernel)",
   "language": "python",
   "name": "python3"
  },
  "language_info": {
   "codemirror_mode": {
    "name": "ipython",
    "version": 3
   },
   "file_extension": ".py",
   "mimetype": "text/x-python",
   "name": "python",
   "nbconvert_exporter": "python",
   "pygments_lexer": "ipython3",
   "version": "3.10.4"
  }
 },
 "nbformat": 4,
 "nbformat_minor": 5
}
