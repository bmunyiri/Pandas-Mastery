{
 "cells": [
  {
   "cell_type": "code",
   "execution_count": 1,
   "id": "b855db27",
   "metadata": {},
   "outputs": [],
   "source": [
    "# vars"
   ]
  },
  {
   "cell_type": "code",
   "execution_count": 2,
   "id": "1ba3ad9f",
   "metadata": {},
   "outputs": [],
   "source": [
    "# (1) getting easy access to an object's attributes\n",
    "\n",
    "class Person:\n",
    "    def __init__(self, first, last):\n",
    "        self.first = first\n",
    "        self.last = last\n",
    "        \n",
    "p = Person('Reuven', 'Lerner')        "
   ]
  },
  {
   "cell_type": "code",
   "execution_count": 3,
   "id": "2500b8c2",
   "metadata": {},
   "outputs": [
    {
     "data": {
      "text/plain": [
       "'Reuven'"
      ]
     },
     "execution_count": 3,
     "metadata": {},
     "output_type": "execute_result"
    }
   ],
   "source": [
    "p.first"
   ]
  },
  {
   "cell_type": "code",
   "execution_count": 4,
   "id": "8b0a4cc6",
   "metadata": {},
   "outputs": [
    {
     "data": {
      "text/plain": [
       "'Lerner'"
      ]
     },
     "execution_count": 4,
     "metadata": {},
     "output_type": "execute_result"
    }
   ],
   "source": [
    "p.last"
   ]
  },
  {
   "cell_type": "code",
   "execution_count": 5,
   "id": "963495f9",
   "metadata": {},
   "outputs": [
    {
     "data": {
      "text/plain": [
       "{'first': 'Reuven', 'last': 'Lerner'}"
      ]
     },
     "execution_count": 5,
     "metadata": {},
     "output_type": "execute_result"
    }
   ],
   "source": [
    "# what are the attributes that I've defined on p?\n",
    "vars(p)"
   ]
  },
  {
   "cell_type": "code",
   "execution_count": 6,
   "id": "24ce53ca",
   "metadata": {},
   "outputs": [
    {
     "data": {
      "text/plain": [
       "{'first': 'Reuven', 'last': 'Lerner'}"
      ]
     },
     "execution_count": 6,
     "metadata": {},
     "output_type": "execute_result"
    }
   ],
   "source": [
    "p.__dict__"
   ]
  },
  {
   "cell_type": "code",
   "execution_count": 7,
   "id": "6ea4b3ed",
   "metadata": {},
   "outputs": [
    {
     "data": {
      "text/plain": [
       "['__class__',\n",
       " '__delattr__',\n",
       " '__dict__',\n",
       " '__dir__',\n",
       " '__doc__',\n",
       " '__eq__',\n",
       " '__format__',\n",
       " '__ge__',\n",
       " '__getattribute__',\n",
       " '__gt__',\n",
       " '__hash__',\n",
       " '__init__',\n",
       " '__init_subclass__',\n",
       " '__le__',\n",
       " '__lt__',\n",
       " '__module__',\n",
       " '__ne__',\n",
       " '__new__',\n",
       " '__reduce__',\n",
       " '__reduce_ex__',\n",
       " '__repr__',\n",
       " '__setattr__',\n",
       " '__sizeof__',\n",
       " '__str__',\n",
       " '__subclasshook__',\n",
       " '__weakref__',\n",
       " 'first',\n",
       " 'last']"
      ]
     },
     "execution_count": 7,
     "metadata": {},
     "output_type": "execute_result"
    }
   ],
   "source": [
    "dir(p)"
   ]
  },
  {
   "cell_type": "code",
   "execution_count": 10,
   "id": "4f57f7ac",
   "metadata": {},
   "outputs": [],
   "source": [
    "class Person:\n",
    "    def __init__(self, first, last):\n",
    "        self.first = first\n",
    "        self.last = last\n",
    "        \n",
    "    def __repr__(self):\n",
    "        return f'Person, {vars(self)=}'\n",
    "        \n",
    "p = Person('Reuven', 'Lerner')        "
   ]
  },
  {
   "cell_type": "code",
   "execution_count": 11,
   "id": "3846e428",
   "metadata": {},
   "outputs": [
    {
     "name": "stdout",
     "output_type": "stream",
     "text": [
      "Person, vars(self)={'first': 'Reuven', 'last': 'Lerner'}\n"
     ]
    }
   ],
   "source": [
    "print(p)"
   ]
  },
  {
   "cell_type": "code",
   "execution_count": 12,
   "id": "d673ae03",
   "metadata": {},
   "outputs": [
    {
     "data": {
      "text/plain": [
       "{'__name__': '__main__',\n",
       " '__doc__': 'Automatically created module for IPython interactive environment',\n",
       " '__package__': None,\n",
       " '__loader__': None,\n",
       " '__spec__': None,\n",
       " '__builtin__': <module 'builtins' (built-in)>,\n",
       " '__builtins__': <module 'builtins' (built-in)>,\n",
       " '_ih': ['',\n",
       "  '# vars',\n",
       "  \"# (1) getting easy access to an object's attributes\\n\\nclass Person:\\n    def __init__(self, first, last):\\n        self.first = first\\n        self.last = last\\n        \\np = Person('Reuven', 'Lerner')        \",\n",
       "  'p.first',\n",
       "  'p.last',\n",
       "  \"# what are the attributes that I've defined on p?\\nvars(p)\",\n",
       "  'p.__dict__',\n",
       "  'dir(p)',\n",
       "  \"class Person:\\n    def __init__(self, first, last):\\n        self.first = first\\n        self.last = last\\n        \\n    def __repr__(self):\\n        return f'Person, {vars=}'\\n        \\np = Person('Reuven', 'Lerner')        \",\n",
       "  'print(p)',\n",
       "  \"class Person:\\n    def __init__(self, first, last):\\n        self.first = first\\n        self.last = last\\n        \\n    def __repr__(self):\\n        return f'Person, {vars(self)=}'\\n        \\np = Person('Reuven', 'Lerner')        \",\n",
       "  'print(p)',\n",
       "  '# call vars() by itself, without an argument, I get the \\n# dict of all global variables\\n\\nvars()  '],\n",
       " '_oh': {3: 'Reuven',\n",
       "  4: 'Lerner',\n",
       "  5: {'first': 'Reuven', 'last': 'Lerner'},\n",
       "  6: {'first': 'Reuven', 'last': 'Lerner'},\n",
       "  7: ['__class__',\n",
       "   '__delattr__',\n",
       "   '__dict__',\n",
       "   '__dir__',\n",
       "   '__doc__',\n",
       "   '__eq__',\n",
       "   '__format__',\n",
       "   '__ge__',\n",
       "   '__getattribute__',\n",
       "   '__gt__',\n",
       "   '__hash__',\n",
       "   '__init__',\n",
       "   '__init_subclass__',\n",
       "   '__le__',\n",
       "   '__lt__',\n",
       "   '__module__',\n",
       "   '__ne__',\n",
       "   '__new__',\n",
       "   '__reduce__',\n",
       "   '__reduce_ex__',\n",
       "   '__repr__',\n",
       "   '__setattr__',\n",
       "   '__sizeof__',\n",
       "   '__str__',\n",
       "   '__subclasshook__',\n",
       "   '__weakref__',\n",
       "   'first',\n",
       "   'last']},\n",
       " '_dh': ['/Users/reuven/Desktop/jupyter-notebooks'],\n",
       " 'In': ['',\n",
       "  '# vars',\n",
       "  \"# (1) getting easy access to an object's attributes\\n\\nclass Person:\\n    def __init__(self, first, last):\\n        self.first = first\\n        self.last = last\\n        \\np = Person('Reuven', 'Lerner')        \",\n",
       "  'p.first',\n",
       "  'p.last',\n",
       "  \"# what are the attributes that I've defined on p?\\nvars(p)\",\n",
       "  'p.__dict__',\n",
       "  'dir(p)',\n",
       "  \"class Person:\\n    def __init__(self, first, last):\\n        self.first = first\\n        self.last = last\\n        \\n    def __repr__(self):\\n        return f'Person, {vars=}'\\n        \\np = Person('Reuven', 'Lerner')        \",\n",
       "  'print(p)',\n",
       "  \"class Person:\\n    def __init__(self, first, last):\\n        self.first = first\\n        self.last = last\\n        \\n    def __repr__(self):\\n        return f'Person, {vars(self)=}'\\n        \\np = Person('Reuven', 'Lerner')        \",\n",
       "  'print(p)',\n",
       "  '# call vars() by itself, without an argument, I get the \\n# dict of all global variables\\n\\nvars()  '],\n",
       " 'Out': {3: 'Reuven',\n",
       "  4: 'Lerner',\n",
       "  5: {'first': 'Reuven', 'last': 'Lerner'},\n",
       "  6: {'first': 'Reuven', 'last': 'Lerner'},\n",
       "  7: ['__class__',\n",
       "   '__delattr__',\n",
       "   '__dict__',\n",
       "   '__dir__',\n",
       "   '__doc__',\n",
       "   '__eq__',\n",
       "   '__format__',\n",
       "   '__ge__',\n",
       "   '__getattribute__',\n",
       "   '__gt__',\n",
       "   '__hash__',\n",
       "   '__init__',\n",
       "   '__init_subclass__',\n",
       "   '__le__',\n",
       "   '__lt__',\n",
       "   '__module__',\n",
       "   '__ne__',\n",
       "   '__new__',\n",
       "   '__reduce__',\n",
       "   '__reduce_ex__',\n",
       "   '__repr__',\n",
       "   '__setattr__',\n",
       "   '__sizeof__',\n",
       "   '__str__',\n",
       "   '__subclasshook__',\n",
       "   '__weakref__',\n",
       "   'first',\n",
       "   'last']},\n",
       " 'get_ipython': <bound method InteractiveShell.get_ipython of <ipykernel.zmqshell.ZMQInteractiveShell object at 0x10a0e7f10>>,\n",
       " 'exit': <IPython.core.autocall.ZMQExitAutocall at 0x10a0e6560>,\n",
       " 'quit': <IPython.core.autocall.ZMQExitAutocall at 0x10a0e6560>,\n",
       " '_': ['__class__',\n",
       "  '__delattr__',\n",
       "  '__dict__',\n",
       "  '__dir__',\n",
       "  '__doc__',\n",
       "  '__eq__',\n",
       "  '__format__',\n",
       "  '__ge__',\n",
       "  '__getattribute__',\n",
       "  '__gt__',\n",
       "  '__hash__',\n",
       "  '__init__',\n",
       "  '__init_subclass__',\n",
       "  '__le__',\n",
       "  '__lt__',\n",
       "  '__module__',\n",
       "  '__ne__',\n",
       "  '__new__',\n",
       "  '__reduce__',\n",
       "  '__reduce_ex__',\n",
       "  '__repr__',\n",
       "  '__setattr__',\n",
       "  '__sizeof__',\n",
       "  '__str__',\n",
       "  '__subclasshook__',\n",
       "  '__weakref__',\n",
       "  'first',\n",
       "  'last'],\n",
       " '__': {'first': 'Reuven', 'last': 'Lerner'},\n",
       " '___': {'first': 'Reuven', 'last': 'Lerner'},\n",
       " '_i': 'print(p)',\n",
       " '_ii': \"class Person:\\n    def __init__(self, first, last):\\n        self.first = first\\n        self.last = last\\n        \\n    def __repr__(self):\\n        return f'Person, {vars(self)=}'\\n        \\np = Person('Reuven', 'Lerner')        \",\n",
       " '_iii': 'print(p)',\n",
       " '_i1': '# vars',\n",
       " '_i2': \"# (1) getting easy access to an object's attributes\\n\\nclass Person:\\n    def __init__(self, first, last):\\n        self.first = first\\n        self.last = last\\n        \\np = Person('Reuven', 'Lerner')        \",\n",
       " 'Person': __main__.Person,\n",
       " 'p': Person, vars(self)={'first': 'Reuven', 'last': 'Lerner'},\n",
       " '_i3': 'p.first',\n",
       " '_3': 'Reuven',\n",
       " '_i4': 'p.last',\n",
       " '_4': 'Lerner',\n",
       " '_i5': \"# what are the attributes that I've defined on p?\\nvars(p)\",\n",
       " '_5': {'first': 'Reuven', 'last': 'Lerner'},\n",
       " '_i6': 'p.__dict__',\n",
       " '_6': {'first': 'Reuven', 'last': 'Lerner'},\n",
       " '_i7': 'dir(p)',\n",
       " '_7': ['__class__',\n",
       "  '__delattr__',\n",
       "  '__dict__',\n",
       "  '__dir__',\n",
       "  '__doc__',\n",
       "  '__eq__',\n",
       "  '__format__',\n",
       "  '__ge__',\n",
       "  '__getattribute__',\n",
       "  '__gt__',\n",
       "  '__hash__',\n",
       "  '__init__',\n",
       "  '__init_subclass__',\n",
       "  '__le__',\n",
       "  '__lt__',\n",
       "  '__module__',\n",
       "  '__ne__',\n",
       "  '__new__',\n",
       "  '__reduce__',\n",
       "  '__reduce_ex__',\n",
       "  '__repr__',\n",
       "  '__setattr__',\n",
       "  '__sizeof__',\n",
       "  '__str__',\n",
       "  '__subclasshook__',\n",
       "  '__weakref__',\n",
       "  'first',\n",
       "  'last'],\n",
       " '_i8': \"class Person:\\n    def __init__(self, first, last):\\n        self.first = first\\n        self.last = last\\n        \\n    def __repr__(self):\\n        return f'Person, {vars=}'\\n        \\np = Person('Reuven', 'Lerner')        \",\n",
       " '_i9': 'print(p)',\n",
       " '_i10': \"class Person:\\n    def __init__(self, first, last):\\n        self.first = first\\n        self.last = last\\n        \\n    def __repr__(self):\\n        return f'Person, {vars(self)=}'\\n        \\np = Person('Reuven', 'Lerner')        \",\n",
       " '_i11': 'print(p)',\n",
       " '_i12': '# call vars() by itself, without an argument, I get the \\n# dict of all global variables\\n\\nvars()  '}"
      ]
     },
     "execution_count": 12,
     "metadata": {},
     "output_type": "execute_result"
    }
   ],
   "source": [
    "# call vars() by itself, without an argument, I get the \n",
    "# dict of all global variables\n",
    "\n",
    "vars()  "
   ]
  },
  {
   "cell_type": "code",
   "execution_count": 13,
   "id": "4c69fa4a",
   "metadata": {},
   "outputs": [],
   "source": [
    "x = 100\n",
    "y = [10, 20, 30]"
   ]
  },
  {
   "cell_type": "code",
   "execution_count": 14,
   "id": "7eb59637",
   "metadata": {},
   "outputs": [
    {
     "data": {
      "text/plain": [
       "100"
      ]
     },
     "execution_count": 14,
     "metadata": {},
     "output_type": "execute_result"
    }
   ],
   "source": [
    "vars()['x']"
   ]
  },
  {
   "cell_type": "code",
   "execution_count": 15,
   "id": "1f176913",
   "metadata": {},
   "outputs": [
    {
     "data": {
      "text/plain": [
       "[10, 20, 30]"
      ]
     },
     "execution_count": 15,
     "metadata": {},
     "output_type": "execute_result"
    }
   ],
   "source": [
    "vars()['y']"
   ]
  },
  {
   "cell_type": "code",
   "execution_count": 16,
   "id": "92931810",
   "metadata": {},
   "outputs": [],
   "source": [
    "vars()['x'] = 2345"
   ]
  },
  {
   "cell_type": "code",
   "execution_count": 17,
   "id": "1deabf4b",
   "metadata": {},
   "outputs": [
    {
     "data": {
      "text/plain": [
       "2345"
      ]
     },
     "execution_count": 17,
     "metadata": {},
     "output_type": "execute_result"
    }
   ],
   "source": [
    "x"
   ]
  },
  {
   "cell_type": "code",
   "execution_count": 18,
   "id": "01fc3a75",
   "metadata": {},
   "outputs": [
    {
     "data": {
      "text/plain": [
       "True"
      ]
     },
     "execution_count": 18,
     "metadata": {},
     "output_type": "execute_result"
    }
   ],
   "source": [
    "'x' in vars()"
   ]
  },
  {
   "cell_type": "code",
   "execution_count": 19,
   "id": "0085960e",
   "metadata": {},
   "outputs": [
    {
     "data": {
      "text/plain": [
       "False"
      ]
     },
     "execution_count": 19,
     "metadata": {},
     "output_type": "execute_result"
    }
   ],
   "source": [
    "'z' in vars()"
   ]
  },
  {
   "cell_type": "code",
   "execution_count": 20,
   "id": "b3b61532",
   "metadata": {},
   "outputs": [
    {
     "name": "stdout",
     "output_type": "stream",
     "text": [
      "{'a': 'hello', 'b': 100, 'c': [10, 20, 30]}\n"
     ]
    }
   ],
   "source": [
    "def myfunc(a):\n",
    "    b = 100\n",
    "    c = [10, 20, 30]\n",
    "    print(vars())  # vars() inside of a function returns a dict of the *local* variables -- just like locals()\n",
    "    \n",
    "myfunc('hello')    "
   ]
  },
  {
   "cell_type": "code",
   "execution_count": 21,
   "id": "41022e0a",
   "metadata": {},
   "outputs": [
    {
     "data": {
      "text/plain": [
       "{'__name__': '__main__',\n",
       " '__doc__': 'Automatically created module for IPython interactive environment',\n",
       " '__package__': None,\n",
       " '__loader__': None,\n",
       " '__spec__': None,\n",
       " '__builtin__': <module 'builtins' (built-in)>,\n",
       " '__builtins__': <module 'builtins' (built-in)>,\n",
       " '_ih': ['',\n",
       "  '# vars',\n",
       "  \"# (1) getting easy access to an object's attributes\\n\\nclass Person:\\n    def __init__(self, first, last):\\n        self.first = first\\n        self.last = last\\n        \\np = Person('Reuven', 'Lerner')        \",\n",
       "  'p.first',\n",
       "  'p.last',\n",
       "  \"# what are the attributes that I've defined on p?\\nvars(p)\",\n",
       "  'p.__dict__',\n",
       "  'dir(p)',\n",
       "  \"class Person:\\n    def __init__(self, first, last):\\n        self.first = first\\n        self.last = last\\n        \\n    def __repr__(self):\\n        return f'Person, {vars=}'\\n        \\np = Person('Reuven', 'Lerner')        \",\n",
       "  'print(p)',\n",
       "  \"class Person:\\n    def __init__(self, first, last):\\n        self.first = first\\n        self.last = last\\n        \\n    def __repr__(self):\\n        return f'Person, {vars(self)=}'\\n        \\np = Person('Reuven', 'Lerner')        \",\n",
       "  'print(p)',\n",
       "  '# call vars() by itself, without an argument, I get the \\n# dict of all global variables\\n\\nvars()  ',\n",
       "  'x = 100\\ny = [10, 20, 30]',\n",
       "  \"vars()['x']\",\n",
       "  \"vars()['y']\",\n",
       "  \"vars()['x'] = 2345\",\n",
       "  'x',\n",
       "  \"'x' in vars()\",\n",
       "  \"'z' in vars()\",\n",
       "  \"def myfunc(a):\\n    b = 100\\n    c = [10, 20, 30]\\n    print(vars())\\n    \\nmyfunc('hello')    \",\n",
       "  'locals()'],\n",
       " '_oh': {3: 'Reuven',\n",
       "  4: 'Lerner',\n",
       "  5: {'first': 'Reuven', 'last': 'Lerner'},\n",
       "  6: {'first': 'Reuven', 'last': 'Lerner'},\n",
       "  7: ['__class__',\n",
       "   '__delattr__',\n",
       "   '__dict__',\n",
       "   '__dir__',\n",
       "   '__doc__',\n",
       "   '__eq__',\n",
       "   '__format__',\n",
       "   '__ge__',\n",
       "   '__getattribute__',\n",
       "   '__gt__',\n",
       "   '__hash__',\n",
       "   '__init__',\n",
       "   '__init_subclass__',\n",
       "   '__le__',\n",
       "   '__lt__',\n",
       "   '__module__',\n",
       "   '__ne__',\n",
       "   '__new__',\n",
       "   '__reduce__',\n",
       "   '__reduce_ex__',\n",
       "   '__repr__',\n",
       "   '__setattr__',\n",
       "   '__sizeof__',\n",
       "   '__str__',\n",
       "   '__subclasshook__',\n",
       "   '__weakref__',\n",
       "   'first',\n",
       "   'last'],\n",
       "  12: {...},\n",
       "  14: 100,\n",
       "  15: [10, 20, 30],\n",
       "  17: 2345,\n",
       "  18: True,\n",
       "  19: False},\n",
       " '_dh': ['/Users/reuven/Desktop/jupyter-notebooks'],\n",
       " 'In': ['',\n",
       "  '# vars',\n",
       "  \"# (1) getting easy access to an object's attributes\\n\\nclass Person:\\n    def __init__(self, first, last):\\n        self.first = first\\n        self.last = last\\n        \\np = Person('Reuven', 'Lerner')        \",\n",
       "  'p.first',\n",
       "  'p.last',\n",
       "  \"# what are the attributes that I've defined on p?\\nvars(p)\",\n",
       "  'p.__dict__',\n",
       "  'dir(p)',\n",
       "  \"class Person:\\n    def __init__(self, first, last):\\n        self.first = first\\n        self.last = last\\n        \\n    def __repr__(self):\\n        return f'Person, {vars=}'\\n        \\np = Person('Reuven', 'Lerner')        \",\n",
       "  'print(p)',\n",
       "  \"class Person:\\n    def __init__(self, first, last):\\n        self.first = first\\n        self.last = last\\n        \\n    def __repr__(self):\\n        return f'Person, {vars(self)=}'\\n        \\np = Person('Reuven', 'Lerner')        \",\n",
       "  'print(p)',\n",
       "  '# call vars() by itself, without an argument, I get the \\n# dict of all global variables\\n\\nvars()  ',\n",
       "  'x = 100\\ny = [10, 20, 30]',\n",
       "  \"vars()['x']\",\n",
       "  \"vars()['y']\",\n",
       "  \"vars()['x'] = 2345\",\n",
       "  'x',\n",
       "  \"'x' in vars()\",\n",
       "  \"'z' in vars()\",\n",
       "  \"def myfunc(a):\\n    b = 100\\n    c = [10, 20, 30]\\n    print(vars())\\n    \\nmyfunc('hello')    \",\n",
       "  'locals()'],\n",
       " 'Out': {3: 'Reuven',\n",
       "  4: 'Lerner',\n",
       "  5: {'first': 'Reuven', 'last': 'Lerner'},\n",
       "  6: {'first': 'Reuven', 'last': 'Lerner'},\n",
       "  7: ['__class__',\n",
       "   '__delattr__',\n",
       "   '__dict__',\n",
       "   '__dir__',\n",
       "   '__doc__',\n",
       "   '__eq__',\n",
       "   '__format__',\n",
       "   '__ge__',\n",
       "   '__getattribute__',\n",
       "   '__gt__',\n",
       "   '__hash__',\n",
       "   '__init__',\n",
       "   '__init_subclass__',\n",
       "   '__le__',\n",
       "   '__lt__',\n",
       "   '__module__',\n",
       "   '__ne__',\n",
       "   '__new__',\n",
       "   '__reduce__',\n",
       "   '__reduce_ex__',\n",
       "   '__repr__',\n",
       "   '__setattr__',\n",
       "   '__sizeof__',\n",
       "   '__str__',\n",
       "   '__subclasshook__',\n",
       "   '__weakref__',\n",
       "   'first',\n",
       "   'last'],\n",
       "  12: {...},\n",
       "  14: 100,\n",
       "  15: [10, 20, 30],\n",
       "  17: 2345,\n",
       "  18: True,\n",
       "  19: False},\n",
       " 'get_ipython': <bound method InteractiveShell.get_ipython of <ipykernel.zmqshell.ZMQInteractiveShell object at 0x10a0e7f10>>,\n",
       " 'exit': <IPython.core.autocall.ZMQExitAutocall at 0x10a0e6560>,\n",
       " 'quit': <IPython.core.autocall.ZMQExitAutocall at 0x10a0e6560>,\n",
       " '_': False,\n",
       " '__': True,\n",
       " '___': 2345,\n",
       " '_i': \"def myfunc(a):\\n    b = 100\\n    c = [10, 20, 30]\\n    print(vars())\\n    \\nmyfunc('hello')    \",\n",
       " '_ii': \"'z' in vars()\",\n",
       " '_iii': \"'x' in vars()\",\n",
       " '_i1': '# vars',\n",
       " '_i2': \"# (1) getting easy access to an object's attributes\\n\\nclass Person:\\n    def __init__(self, first, last):\\n        self.first = first\\n        self.last = last\\n        \\np = Person('Reuven', 'Lerner')        \",\n",
       " 'Person': __main__.Person,\n",
       " 'p': Person, vars(self)={'first': 'Reuven', 'last': 'Lerner'},\n",
       " '_i3': 'p.first',\n",
       " '_3': 'Reuven',\n",
       " '_i4': 'p.last',\n",
       " '_4': 'Lerner',\n",
       " '_i5': \"# what are the attributes that I've defined on p?\\nvars(p)\",\n",
       " '_5': {'first': 'Reuven', 'last': 'Lerner'},\n",
       " '_i6': 'p.__dict__',\n",
       " '_6': {'first': 'Reuven', 'last': 'Lerner'},\n",
       " '_i7': 'dir(p)',\n",
       " '_7': ['__class__',\n",
       "  '__delattr__',\n",
       "  '__dict__',\n",
       "  '__dir__',\n",
       "  '__doc__',\n",
       "  '__eq__',\n",
       "  '__format__',\n",
       "  '__ge__',\n",
       "  '__getattribute__',\n",
       "  '__gt__',\n",
       "  '__hash__',\n",
       "  '__init__',\n",
       "  '__init_subclass__',\n",
       "  '__le__',\n",
       "  '__lt__',\n",
       "  '__module__',\n",
       "  '__ne__',\n",
       "  '__new__',\n",
       "  '__reduce__',\n",
       "  '__reduce_ex__',\n",
       "  '__repr__',\n",
       "  '__setattr__',\n",
       "  '__sizeof__',\n",
       "  '__str__',\n",
       "  '__subclasshook__',\n",
       "  '__weakref__',\n",
       "  'first',\n",
       "  'last'],\n",
       " '_i8': \"class Person:\\n    def __init__(self, first, last):\\n        self.first = first\\n        self.last = last\\n        \\n    def __repr__(self):\\n        return f'Person, {vars=}'\\n        \\np = Person('Reuven', 'Lerner')        \",\n",
       " '_i9': 'print(p)',\n",
       " '_i10': \"class Person:\\n    def __init__(self, first, last):\\n        self.first = first\\n        self.last = last\\n        \\n    def __repr__(self):\\n        return f'Person, {vars(self)=}'\\n        \\np = Person('Reuven', 'Lerner')        \",\n",
       " '_i11': 'print(p)',\n",
       " '_i12': '# call vars() by itself, without an argument, I get the \\n# dict of all global variables\\n\\nvars()  ',\n",
       " '_12': {...},\n",
       " '_i13': 'x = 100\\ny = [10, 20, 30]',\n",
       " 'x': 2345,\n",
       " 'y': [10, 20, 30],\n",
       " '_i14': \"vars()['x']\",\n",
       " '_14': 100,\n",
       " '_i15': \"vars()['y']\",\n",
       " '_15': [10, 20, 30],\n",
       " '_i16': \"vars()['x'] = 2345\",\n",
       " '_i17': 'x',\n",
       " '_17': 2345,\n",
       " '_i18': \"'x' in vars()\",\n",
       " '_18': True,\n",
       " '_i19': \"'z' in vars()\",\n",
       " '_19': False,\n",
       " '_i20': \"def myfunc(a):\\n    b = 100\\n    c = [10, 20, 30]\\n    print(vars())\\n    \\nmyfunc('hello')    \",\n",
       " 'myfunc': <function __main__.myfunc(a)>,\n",
       " '_i21': 'locals()'}"
      ]
     },
     "execution_count": 21,
     "metadata": {},
     "output_type": "execute_result"
    }
   ],
   "source": [
    "locals()"
   ]
  },
  {
   "cell_type": "code",
   "execution_count": null,
   "id": "f5d47632",
   "metadata": {},
   "outputs": [],
   "source": []
  }
 ],
 "metadata": {
  "kernelspec": {
   "display_name": "Python 3 (ipykernel)",
   "language": "python",
   "name": "python3"
  },
  "language_info": {
   "codemirror_mode": {
    "name": "ipython",
    "version": 3
   },
   "file_extension": ".py",
   "mimetype": "text/x-python",
   "name": "python",
   "nbconvert_exporter": "python",
   "pygments_lexer": "ipython3",
   "version": "3.9.12"
  }
 },
 "nbformat": 4,
 "nbformat_minor": 5
}
