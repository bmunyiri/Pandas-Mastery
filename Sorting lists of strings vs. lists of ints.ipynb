{
 "cells": [
  {
   "cell_type": "code",
   "execution_count": 1,
   "id": "88be88fe",
   "metadata": {},
   "outputs": [
    {
     "data": {
      "text/plain": [
       "['this',\n",
       " 'is',\n",
       " 'a',\n",
       " 'bunch',\n",
       " 'of',\n",
       " 'brilliant',\n",
       " 'words',\n",
       " 'that',\n",
       " 'I',\n",
       " 'have',\n",
       " 'spoken']"
      ]
     },
     "execution_count": 1,
     "metadata": {},
     "output_type": "execute_result"
    }
   ],
   "source": [
    "words = 'this is a bunch of brilliant words that I have spoken'.split()\n",
    "\n",
    "words"
   ]
  },
  {
   "cell_type": "code",
   "execution_count": 2,
   "id": "d7fb5d32",
   "metadata": {},
   "outputs": [
    {
     "data": {
      "text/plain": [
       "['I',\n",
       " 'a',\n",
       " 'brilliant',\n",
       " 'bunch',\n",
       " 'have',\n",
       " 'is',\n",
       " 'of',\n",
       " 'spoken',\n",
       " 'that',\n",
       " 'this',\n",
       " 'words']"
      ]
     },
     "execution_count": 2,
     "metadata": {},
     "output_type": "execute_result"
    }
   ],
   "source": [
    "sorted(words)"
   ]
  },
  {
   "cell_type": "code",
   "execution_count": 3,
   "id": "83e448c3",
   "metadata": {},
   "outputs": [
    {
     "data": {
      "text/plain": [
       "'brilliantbunch'"
      ]
     },
     "execution_count": 3,
     "metadata": {},
     "output_type": "execute_result"
    }
   ],
   "source": [
    "'brilliant' 'bunch'"
   ]
  },
  {
   "cell_type": "code",
   "execution_count": 4,
   "id": "85f12ba6",
   "metadata": {},
   "outputs": [
    {
     "data": {
      "text/plain": [
       "98"
      ]
     },
     "execution_count": 4,
     "metadata": {},
     "output_type": "execute_result"
    }
   ],
   "source": [
    "ord('b')"
   ]
  },
  {
   "cell_type": "code",
   "execution_count": 5,
   "id": "653c2243",
   "metadata": {},
   "outputs": [
    {
     "data": {
      "text/plain": [
       "97"
      ]
     },
     "execution_count": 5,
     "metadata": {},
     "output_type": "execute_result"
    }
   ],
   "source": [
    "ord('a')"
   ]
  },
  {
   "cell_type": "code",
   "execution_count": 6,
   "id": "0402d5eb",
   "metadata": {},
   "outputs": [
    {
     "data": {
      "text/plain": [
       "73"
      ]
     },
     "execution_count": 6,
     "metadata": {},
     "output_type": "execute_result"
    }
   ],
   "source": [
    "ord('I')"
   ]
  },
  {
   "cell_type": "code",
   "execution_count": 7,
   "id": "10ea4edf",
   "metadata": {},
   "outputs": [
    {
     "data": {
      "text/plain": [
       "90"
      ]
     },
     "execution_count": 7,
     "metadata": {},
     "output_type": "execute_result"
    }
   ],
   "source": [
    "ord('Z')"
   ]
  },
  {
   "cell_type": "code",
   "execution_count": 8,
   "id": "243bbe76",
   "metadata": {},
   "outputs": [
    {
     "data": {
      "text/plain": [
       "97"
      ]
     },
     "execution_count": 8,
     "metadata": {},
     "output_type": "execute_result"
    }
   ],
   "source": [
    "ord('a')"
   ]
  },
  {
   "cell_type": "code",
   "execution_count": 9,
   "id": "76748b69",
   "metadata": {},
   "outputs": [
    {
     "data": {
      "text/plain": [
       "['100', '20', '10', '200', '1', '2']"
      ]
     },
     "execution_count": 9,
     "metadata": {},
     "output_type": "execute_result"
    }
   ],
   "source": [
    "mylist = '100 20 10 200 1 2'.split()\n",
    "\n",
    "mylist"
   ]
  },
  {
   "cell_type": "code",
   "execution_count": 10,
   "id": "87afdcd6",
   "metadata": {},
   "outputs": [
    {
     "data": {
      "text/plain": [
       "['1', '10', '100', '2', '20', '200']"
      ]
     },
     "execution_count": 10,
     "metadata": {},
     "output_type": "execute_result"
    }
   ],
   "source": [
    "sorted(mylist)"
   ]
  },
  {
   "cell_type": "code",
   "execution_count": 11,
   "id": "221d4ef3",
   "metadata": {},
   "outputs": [
    {
     "data": {
      "text/plain": [
       "49"
      ]
     },
     "execution_count": 11,
     "metadata": {},
     "output_type": "execute_result"
    }
   ],
   "source": [
    "ord('1')"
   ]
  },
  {
   "cell_type": "code",
   "execution_count": 12,
   "id": "b0c56a65",
   "metadata": {},
   "outputs": [
    {
     "data": {
      "text/plain": [
       "50"
      ]
     },
     "execution_count": 12,
     "metadata": {},
     "output_type": "execute_result"
    }
   ],
   "source": [
    "ord('2')"
   ]
  },
  {
   "cell_type": "code",
   "execution_count": 14,
   "id": "083d186f",
   "metadata": {},
   "outputs": [
    {
     "data": {
      "text/plain": [
       "[1, 2, 10, 20, 100, 200]"
      ]
     },
     "execution_count": 14,
     "metadata": {},
     "output_type": "execute_result"
    }
   ],
   "source": [
    "# one solution: turn them into integers!\n",
    "# list comprehension\n",
    "\n",
    "sorted([int(one_number)\n",
    " for one_number in mylist])"
   ]
  },
  {
   "cell_type": "code",
   "execution_count": 15,
   "id": "48e9a05a",
   "metadata": {},
   "outputs": [
    {
     "data": {
      "text/plain": [
       "['1', '2', '10', '20', '100', '200']"
      ]
     },
     "execution_count": 15,
     "metadata": {},
     "output_type": "execute_result"
    }
   ],
   "source": [
    "# another solution: pass int as a an argument to sorted\n",
    "sorted(mylist, key=int)"
   ]
  },
  {
   "cell_type": "code",
   "execution_count": null,
   "id": "22091dde",
   "metadata": {},
   "outputs": [],
   "source": []
  }
 ],
 "metadata": {
  "kernelspec": {
   "display_name": "Python 3 (ipykernel)",
   "language": "python",
   "name": "python3"
  },
  "language_info": {
   "codemirror_mode": {
    "name": "ipython",
    "version": 3
   },
   "file_extension": ".py",
   "mimetype": "text/x-python",
   "name": "python",
   "nbconvert_exporter": "python",
   "pygments_lexer": "ipython3",
   "version": "3.10.2"
  }
 },
 "nbformat": 4,
 "nbformat_minor": 5
}
