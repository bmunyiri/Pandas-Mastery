{
 "cells": [
  {
   "cell_type": "code",
   "execution_count": 6,
   "id": "d87fe2a6",
   "metadata": {},
   "outputs": [],
   "source": [
    "def malti(x, *args, **kwargs):\n",
    "    \"\"\"\n",
    "    Expects:Three types arguments\n",
    "    Modifies:Nothing\n",
    "    Returns: The arugmets supplies according to parameter\n",
    "    \"\"\"\n",
    "    return f'{x=}, {args}, {kwargs}'\n"
   ]
  },
  {
   "cell_type": "code",
   "execution_count": 13,
   "id": "e9c49e8e",
   "metadata": {},
   "outputs": [
    {
     "data": {
      "text/plain": [
       "\"x=1, (2, 3, 4, 5), {'one': 1, 'two': 2, 'three': 3}\""
      ]
     },
     "execution_count": 13,
     "metadata": {},
     "output_type": "execute_result"
    }
   ],
   "source": [
    "malti(1,2,3,4,5,one=1,two=2,three=3)"
   ]
  },
  {
   "cell_type": "code",
   "execution_count": 8,
   "id": "4ed60f2b",
   "metadata": {},
   "outputs": [
    {
     "data": {
      "text/plain": [
       "'\\n    Expects:Three types arguments\\n    Modifies:Nothing\\n    Returns: The arugmets supplies according to parameter\\n    '"
      ]
     },
     "execution_count": 8,
     "metadata": {},
     "output_type": "execute_result"
    }
   ],
   "source": [
    "malti.__doc__"
   ]
  },
  {
   "cell_type": "code",
   "execution_count": 7,
   "id": "1405e6cc",
   "metadata": {},
   "outputs": [
    {
     "name": "stdout",
     "output_type": "stream",
     "text": [
      "Help on function malti in module __main__:\n",
      "\n",
      "malti(x, *args, **kwargs)\n",
      "    Expects:Three types arguments\n",
      "    Modifies:Nothing\n",
      "    Returns: The arugmets supplies according to parameter\n",
      "\n"
     ]
    }
   ],
   "source": [
    "help(malti)"
   ]
  },
  {
   "cell_type": "markdown",
   "id": "2ae4b5c7",
   "metadata": {},
   "source": [
    "# Unrolling"
   ]
  },
  {
   "cell_type": "code",
   "execution_count": 10,
   "id": "0f9a6344",
   "metadata": {},
   "outputs": [
    {
     "data": {
      "text/plain": [
       "5"
      ]
     },
     "execution_count": 10,
     "metadata": {},
     "output_type": "execute_result"
    }
   ],
   "source": [
    "def add(x,y):\n",
    "    return x+y\n",
    "\n",
    "s=(2,3)\n",
    "add(*s)"
   ]
  },
  {
   "cell_type": "code",
   "execution_count": 11,
   "id": "c6624db2",
   "metadata": {},
   "outputs": [
    {
     "data": {
      "text/plain": [
       "5"
      ]
     },
     "execution_count": 11,
     "metadata": {},
     "output_type": "execute_result"
    }
   ],
   "source": [
    "def add(x,y):\n",
    "    return x+y\n",
    "\n",
    "s=[2,3]\n",
    "add(*s)"
   ]
  },
  {
   "cell_type": "code",
   "execution_count": 20,
   "id": "5b922a08",
   "metadata": {},
   "outputs": [
    {
     "name": "stdout",
     "output_type": "stream",
     "text": [
      "enter a word: monocotolidon\n"
     ]
    },
    {
     "ename": "KeyError",
     "evalue": "'m'",
     "output_type": "error",
     "traceback": [
      "\u001b[1;31m---------------------------------------------------------------------------\u001b[0m",
      "\u001b[1;31mKeyError\u001b[0m                                  Traceback (most recent call last)",
      "Input \u001b[1;32mIn [20]\u001b[0m, in \u001b[0;36m<cell line: 5>\u001b[1;34m()\u001b[0m\n\u001b[0;32m      5\u001b[0m \u001b[38;5;28;01mfor\u001b[39;00m one_letter \u001b[38;5;129;01min\u001b[39;00m word:\n\u001b[0;32m      6\u001b[0m     \u001b[38;5;28;01mif\u001b[39;00m one_letter \u001b[38;5;129;01min\u001b[39;00m word:\n\u001b[1;32m----> 7\u001b[0m         count[one_letter]\u001b[38;5;241m+\u001b[39m\u001b[38;5;241m=\u001b[39m\u001b[38;5;241m1\u001b[39m\n\u001b[0;32m      8\u001b[0m     \u001b[38;5;28;01melse\u001b[39;00m:\n\u001b[0;32m      9\u001b[0m         count[one_letter]\u001b[38;5;241m=\u001b[39m \u001b[38;5;241m1\u001b[39m\n",
      "\u001b[1;31mKeyError\u001b[0m: 'm'"
     ]
    }
   ],
   "source": [
    "word = input(\"enter a word: \")\n",
    "\n",
    "count={}\n",
    "\n",
    "for one_letter in word:\n",
    "    if one_letter in word:\n",
    "        count[one_letter] +=1\n",
    "    else:\n",
    "        count[one_letter] = 1\n",
    "\n",
    "print(count)\n"
   ]
  },
  {
   "cell_type": "code",
   "execution_count": 22,
   "id": "2959350e",
   "metadata": {},
   "outputs": [
    {
     "data": {
      "text/plain": [
       "Counter({'m': 1, 'o': 5, 'n': 2, 'c': 1, 't': 1, 'l': 1, 'i': 1, 'd': 1})"
      ]
     },
     "execution_count": 22,
     "metadata": {},
     "output_type": "execute_result"
    }
   ],
   "source": [
    "from collections import Counter\n",
    "Counter(word)"
   ]
  },
  {
   "cell_type": "code",
   "execution_count": null,
   "id": "66562f6c",
   "metadata": {},
   "outputs": [],
   "source": []
  }
 ],
 "metadata": {
  "kernelspec": {
   "display_name": "Python 3 (ipykernel)",
   "language": "python",
   "name": "python3"
  },
  "language_info": {
   "codemirror_mode": {
    "name": "ipython",
    "version": 3
   },
   "file_extension": ".py",
   "mimetype": "text/x-python",
   "name": "python",
   "nbconvert_exporter": "python",
   "pygments_lexer": "ipython3",
   "version": "3.9.12"
  }
 },
 "nbformat": 4,
 "nbformat_minor": 5
}
